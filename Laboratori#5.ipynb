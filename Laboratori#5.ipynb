{
 "cells": [
  {
   "cell_type": "markdown",
   "metadata": {},
   "source": [
    "## Laboratorio 5 - Autocodificadores"
   ]
  },
  {
   "cell_type": "code",
   "execution_count": 295,
   "metadata": {},
   "outputs": [
    {
     "name": "stdout",
     "output_type": "stream",
     "text": [
      "           Cheese  Carcass_meat   Other_meat   Fish  Fats_and_oils   Sugars  \\\n",
      "England       105            245          685   147             193     156   \n",
      "Wales         103            227          803   160             235     175   \n",
      "Scotland      103            242          750   122             184     147   \n",
      "N.Ireland      66            267          586    93             209     139   \n",
      "\n",
      "           Fresh_potatoes   Fresh_Veg   Other_Veg   Processed_potatoes   \\\n",
      "England                720         253         488                  198   \n",
      "Wales                  874         265         570                  203   \n",
      "Scotland               566         171         418                  220   \n",
      "N.Ireland             1033         143         355                  187   \n",
      "\n",
      "           Processed_Veg   Fresh_fruit   Cereals   Beverages  Soft_drinks   \\\n",
      "England               360          1102      1472         57          1374   \n",
      "Wales                 365          1137      1582         73          1256   \n",
      "Scotland              337           957      1462         53          1572   \n",
      "N.Ireland             334           674      1494         47          1506   \n",
      "\n",
      "           Alcoholic_drinks   Confectionery   \n",
      "England                  375              54  \n",
      "Wales                    475              64  \n",
      "Scotland                 458              62  \n",
      "N.Ireland                135              41  \n"
     ]
    }
   ],
   "source": [
    "import pandas as pd\n",
    "from sklearn.preprocessing import StandardScaler\n",
    "import matplotlib.pyplot as plt\n",
    "import tensorflow as tf\n",
    "from tensorflow.keras import layers, Model\n",
    "\n",
    "# 1.1 Cargar los datos\n",
    "df = pd.read_csv('UK_foods.csv', index_col=0)  # Suponiendo que la primera columna contiene los nombres de los alimentos\n",
    "\n",
    "# Transponer el DataFrame para que los países sean las observaciones y los alimentos las características\n",
    "df = df.transpose()\n",
    "\n",
    "print(df.head())"
   ]
  },
  {
   "cell_type": "code",
   "execution_count": 296,
   "metadata": {},
   "outputs": [
    {
     "name": "stdout",
     "output_type": "stream",
     "text": [
      "           Cheese  Carcass_meat   Other_meat         Fish  Fats_and_oils   \\\n",
      "count    4.000000           4.00     4.000000    4.000000        4.000000   \n",
      "mean    94.250000         245.25   706.000000  130.500000      205.250000   \n",
      "std     18.856917          16.50    93.427334   29.557853       22.366269   \n",
      "min     66.000000         227.00   586.000000   93.000000      184.000000   \n",
      "25%     93.750000         238.25   660.250000  114.750000      190.750000   \n",
      "50%    103.000000         243.50   717.500000  134.500000      201.000000   \n",
      "75%    103.500000         250.50   763.250000  150.250000      215.500000   \n",
      "max    105.000000         267.00   803.000000  160.000000      235.000000   \n",
      "\n",
      "          Sugars  Fresh_potatoes   Fresh_Veg   Other_Veg   \\\n",
      "count    4.00000         4.000000    4.000000    4.000000   \n",
      "mean   154.25000       798.250000  208.000000  457.750000   \n",
      "std     15.47848       200.755863   60.188592   92.471167   \n",
      "min    139.00000       566.000000  143.000000  355.000000   \n",
      "25%    145.00000       681.500000  164.000000  402.250000   \n",
      "50%    151.50000       797.000000  212.000000  453.000000   \n",
      "75%    160.75000       913.750000  256.000000  508.500000   \n",
      "max    175.00000      1033.000000  265.000000  570.000000   \n",
      "\n",
      "       Processed_potatoes   Processed_Veg   Fresh_fruit      Cereals   \\\n",
      "count             4.000000        4.000000      4.000000     4.000000   \n",
      "mean            202.000000      349.000000    967.500000  1502.500000   \n",
      "std              13.735599       15.769168    210.612599    54.659552   \n",
      "min             187.000000      334.000000    674.000000  1462.000000   \n",
      "25%             195.250000      336.250000    886.250000  1469.500000   \n",
      "50%             200.500000      348.500000   1029.500000  1483.000000   \n",
      "75%             207.250000      361.250000   1110.750000  1516.000000   \n",
      "max             220.000000      365.000000   1137.000000  1582.000000   \n",
      "\n",
      "       Beverages  Soft_drinks   Alcoholic_drinks   Confectionery   \n",
      "count   4.000000      4.000000           4.000000        4.000000  \n",
      "mean   57.500000   1427.000000         360.750000       55.250000  \n",
      "std    11.120552    140.612944         156.712848       10.436315  \n",
      "min    47.000000   1256.000000         135.000000       41.000000  \n",
      "25%    51.500000   1344.500000         315.000000       50.750000  \n",
      "50%    55.000000   1440.000000         416.500000       58.000000  \n",
      "75%    61.000000   1522.500000         462.250000       62.500000  \n",
      "max    73.000000   1572.000000         475.000000       64.000000  \n"
     ]
    }
   ],
   "source": [
    "# 1.2 Exploración básica\n",
    "print(df.describe())"
   ]
  },
  {
   "cell_type": "code",
   "execution_count": 297,
   "metadata": {},
   "outputs": [
    {
     "name": "stdout",
     "output_type": "stream",
     "text": [
      "             Cheese  Carcass_meat   Other_meat       Fish  Fats_and_oils   \\\n",
      "England    0.658275      -0.017495    -0.259546  0.644585       -0.632429   \n",
      "Wales      0.535805      -1.277169     1.198856  1.152440        1.535899   \n",
      "Scotland   0.535805      -0.227441     0.543811 -0.332059       -1.097071   \n",
      "N.Ireland -1.729885       1.522105    -1.483121 -1.464967        0.193601   \n",
      "\n",
      "             Sugars  Fresh_potatoes   Fresh_Veg   Other_Veg   \\\n",
      "England    0.130551        -0.450076    0.863312    0.377736   \n",
      "Wales      1.547958         0.435696    1.093528    1.401682   \n",
      "Scotland  -0.540853        -1.335847   -0.709834   -0.496364   \n",
      "N.Ireland -1.137656         1.350227   -1.247006   -1.283054   \n",
      "\n",
      "           Processed_potatoes   Processed_Veg   Fresh_fruit   Cereals   \\\n",
      "England              -0.336265        0.805477      0.737407 -0.644322   \n",
      "Wales                 0.084066        1.171603      0.929297  1.679463   \n",
      "Scotland              1.513193       -0.878702     -0.057567 -0.855575   \n",
      "N.Ireland            -1.260994       -1.098378     -1.609137 -0.179565   \n",
      "\n",
      "           Beverages  Soft_drinks   Alcoholic_drinks   Confectionery   \n",
      "England    -0.051917     -0.435231           0.104998       -0.138303  \n",
      "Wales       1.609440     -1.404236           0.841823        0.968122  \n",
      "Scotland   -0.467257      1.190727           0.716563        0.746837  \n",
      "N.Ireland  -1.090266      0.648741          -1.663384       -1.576656  \n"
     ]
    }
   ],
   "source": [
    "# 1.3 Normalización\n",
    "scaler = StandardScaler()\n",
    "df_normalized = pd.DataFrame(scaler.fit_transform(df), columns=df.columns, index=df.index)\n",
    "print(df_normalized)"
   ]
  },
  {
   "cell_type": "code",
   "execution_count": 298,
   "metadata": {},
   "outputs": [
    {
     "name": "stderr",
     "output_type": "stream",
     "text": [
      "WARNING:absl:`lr` is deprecated in Keras optimizer, please use `learning_rate` or use the legacy optimizer, e.g.,tf.keras.optimizers.legacy.Adam.\n"
     ]
    },
    {
     "name": "stdout",
     "output_type": "stream",
     "text": [
      "Epoch 1/100\n",
      "4/4 [==============================] - 1s 5ms/step - loss: 1.2501\n",
      "Epoch 2/100\n",
      "4/4 [==============================] - 0s 5ms/step - loss: 1.2495\n",
      "Epoch 3/100\n",
      "4/4 [==============================] - 0s 0s/step - loss: 1.2489\n",
      "Epoch 4/100\n",
      "4/4 [==============================] - 0s 0s/step - loss: 1.2486\n",
      "Epoch 5/100\n",
      "4/4 [==============================] - 0s 5ms/step - loss: 1.2480\n",
      "Epoch 6/100\n",
      "4/4 [==============================] - 0s 0s/step - loss: 1.2476\n",
      "Epoch 7/100\n",
      "4/4 [==============================] - 0s 0s/step - loss: 1.2472\n",
      "Epoch 8/100\n",
      "4/4 [==============================] - 0s 5ms/step - loss: 1.2467\n",
      "Epoch 9/100\n",
      "4/4 [==============================] - 0s 5ms/step - loss: 1.2463\n",
      "Epoch 10/100\n",
      "4/4 [==============================] - 0s 0s/step - loss: 1.2460\n",
      "Epoch 11/100\n",
      "4/4 [==============================] - 0s 0s/step - loss: 1.2454\n",
      "Epoch 12/100\n",
      "4/4 [==============================] - 0s 5ms/step - loss: 1.2451\n",
      "Epoch 13/100\n",
      "4/4 [==============================] - 0s 0s/step - loss: 1.2446\n",
      "Epoch 14/100\n",
      "4/4 [==============================] - 0s 0s/step - loss: 1.2442\n",
      "Epoch 15/100\n",
      "4/4 [==============================] - 0s 5ms/step - loss: 1.2437\n",
      "Epoch 16/100\n",
      "4/4 [==============================] - 0s 5ms/step - loss: 1.2432\n",
      "Epoch 17/100\n",
      "4/4 [==============================] - 0s 0s/step - loss: 1.2429\n",
      "Epoch 18/100\n",
      "4/4 [==============================] - 0s 0s/step - loss: 1.2423\n",
      "Epoch 19/100\n",
      "4/4 [==============================] - 0s 5ms/step - loss: 1.2419\n",
      "Epoch 20/100\n",
      "4/4 [==============================] - 0s 0s/step - loss: 1.2416\n",
      "Epoch 21/100\n",
      "4/4 [==============================] - 0s 5ms/step - loss: 1.2410\n",
      "Epoch 22/100\n",
      "4/4 [==============================] - 0s 0s/step - loss: 1.2406\n",
      "Epoch 23/100\n",
      "4/4 [==============================] - 0s 3ms/step - loss: 1.2403\n",
      "Epoch 24/100\n",
      "4/4 [==============================] - 0s 0s/step - loss: 1.2397\n",
      "Epoch 25/100\n",
      "4/4 [==============================] - 0s 0s/step - loss: 1.2395\n",
      "Epoch 26/100\n",
      "4/4 [==============================] - 0s 6ms/step - loss: 1.2390\n",
      "Epoch 27/100\n",
      "4/4 [==============================] - 0s 0s/step - loss: 1.2386\n",
      "Epoch 28/100\n",
      "4/4 [==============================] - 0s 0s/step - loss: 1.2380\n",
      "Epoch 29/100\n",
      "4/4 [==============================] - 0s 5ms/step - loss: 1.2376\n",
      "Epoch 30/100\n",
      "4/4 [==============================] - 0s 0s/step - loss: 1.2372\n",
      "Epoch 31/100\n",
      "4/4 [==============================] - 0s 0s/step - loss: 1.2368\n",
      "Epoch 32/100\n",
      "4/4 [==============================] - 0s 5ms/step - loss: 1.2363\n",
      "Epoch 33/100\n",
      "4/4 [==============================] - 0s 243us/step - loss: 1.2359\n",
      "Epoch 34/100\n",
      "4/4 [==============================] - 0s 0s/step - loss: 1.2357\n",
      "Epoch 35/100\n",
      "4/4 [==============================] - 0s 0s/step - loss: 1.2351\n",
      "Epoch 36/100\n",
      "4/4 [==============================] - 0s 556us/step - loss: 1.2346\n",
      "Epoch 37/100\n",
      "4/4 [==============================] - 0s 5ms/step - loss: 1.2343\n",
      "Epoch 38/100\n",
      "4/4 [==============================] - 0s 3ms/step - loss: 1.2338\n",
      "Epoch 39/100\n",
      "4/4 [==============================] - 0s 2ms/step - loss: 1.2335\n",
      "Epoch 40/100\n",
      "4/4 [==============================] - 0s 0s/step - loss: 1.2330\n",
      "Epoch 41/100\n",
      "4/4 [==============================] - 0s 0s/step - loss: 1.2325\n",
      "Epoch 42/100\n",
      "4/4 [==============================] - 0s 5ms/step - loss: 1.2321\n",
      "Epoch 43/100\n",
      "4/4 [==============================] - 0s 5ms/step - loss: 1.2317\n",
      "Epoch 44/100\n",
      "4/4 [==============================] - 0s 3ms/step - loss: 1.2313\n",
      "Epoch 45/100\n",
      "4/4 [==============================] - 0s 3ms/step - loss: 1.2309\n",
      "Epoch 46/100\n",
      "4/4 [==============================] - 0s 3ms/step - loss: 1.2305\n",
      "Epoch 47/100\n",
      "4/4 [==============================] - 0s 933us/step - loss: 1.2302\n",
      "Epoch 48/100\n",
      "4/4 [==============================] - 0s 0s/step - loss: 1.2298\n",
      "Epoch 49/100\n",
      "4/4 [==============================] - 0s 5ms/step - loss: 1.2293\n",
      "Epoch 50/100\n",
      "4/4 [==============================] - 0s 6ms/step - loss: 1.2289\n",
      "Epoch 51/100\n",
      "4/4 [==============================] - 0s 3ms/step - loss: 1.2285\n",
      "Epoch 52/100\n",
      "4/4 [==============================] - 0s 0s/step - loss: 1.2281\n",
      "Epoch 53/100\n",
      "4/4 [==============================] - 0s 0s/step - loss: 1.2275\n",
      "Epoch 54/100\n",
      "4/4 [==============================] - 0s 6ms/step - loss: 1.2273\n",
      "Epoch 55/100\n",
      "4/4 [==============================] - 0s 573us/step - loss: 1.2267\n",
      "Epoch 56/100\n",
      "4/4 [==============================] - 0s 5ms/step - loss: 1.2265\n",
      "Epoch 57/100\n",
      "4/4 [==============================] - 0s 0s/step - loss: 1.2259\n",
      "Epoch 58/100\n",
      "4/4 [==============================] - 0s 5ms/step - loss: 1.2256\n",
      "Epoch 59/100\n",
      "4/4 [==============================] - 0s 5ms/step - loss: 1.2252\n",
      "Epoch 60/100\n",
      "4/4 [==============================] - 0s 0s/step - loss: 1.2247\n",
      "Epoch 61/100\n",
      "4/4 [==============================] - 0s 0s/step - loss: 1.2243\n",
      "Epoch 62/100\n",
      "4/4 [==============================] - 0s 5ms/step - loss: 1.2241\n",
      "Epoch 63/100\n",
      "4/4 [==============================] - 0s 0s/step - loss: 1.2236\n",
      "Epoch 64/100\n",
      "4/4 [==============================] - 0s 0s/step - loss: 1.2231\n",
      "Epoch 65/100\n",
      "4/4 [==============================] - 0s 5ms/step - loss: 1.2228\n",
      "Epoch 66/100\n",
      "4/4 [==============================] - 0s 0s/step - loss: 1.2224\n",
      "Epoch 67/100\n",
      "4/4 [==============================] - 0s 2ms/step - loss: 1.2219\n",
      "Epoch 68/100\n",
      "4/4 [==============================] - 0s 4ms/step - loss: 1.2215\n",
      "Epoch 69/100\n",
      "4/4 [==============================] - 0s 5ms/step - loss: 1.2212\n",
      "Epoch 70/100\n",
      "4/4 [==============================] - 0s 3ms/step - loss: 1.2209\n",
      "Epoch 71/100\n",
      "4/4 [==============================] - 0s 0s/step - loss: 1.2205\n",
      "Epoch 72/100\n",
      "4/4 [==============================] - 0s 0s/step - loss: 1.2200\n",
      "Epoch 73/100\n",
      "4/4 [==============================] - 0s 6ms/step - loss: 1.2195\n",
      "Epoch 74/100\n",
      "4/4 [==============================] - 0s 0s/step - loss: 1.2192\n",
      "Epoch 75/100\n",
      "4/4 [==============================] - 0s 5ms/step - loss: 1.2188\n",
      "Epoch 76/100\n",
      "4/4 [==============================] - 0s 0s/step - loss: 1.2184\n",
      "Epoch 77/100\n",
      "4/4 [==============================] - 0s 0s/step - loss: 1.2182\n",
      "Epoch 78/100\n",
      "4/4 [==============================] - 0s 5ms/step - loss: 1.2176\n",
      "Epoch 79/100\n",
      "4/4 [==============================] - 0s 5ms/step - loss: 1.2174\n",
      "Epoch 80/100\n",
      "4/4 [==============================] - 0s 0s/step - loss: 1.2169\n",
      "Epoch 81/100\n",
      "4/4 [==============================] - 0s 0s/step - loss: 1.2165\n",
      "Epoch 82/100\n",
      "4/4 [==============================] - 0s 5ms/step - loss: 1.2160\n",
      "Epoch 83/100\n",
      "4/4 [==============================] - 0s 0s/step - loss: 1.2157\n",
      "Epoch 84/100\n",
      "4/4 [==============================] - 0s 0s/step - loss: 1.2152\n",
      "Epoch 85/100\n",
      "4/4 [==============================] - 0s 5ms/step - loss: 1.2149\n",
      "Epoch 86/100\n",
      "4/4 [==============================] - 0s 5ms/step - loss: 1.2146\n",
      "Epoch 87/100\n",
      "4/4 [==============================] - 0s 0s/step - loss: 1.2141\n",
      "Epoch 88/100\n",
      "4/4 [==============================] - 0s 0s/step - loss: 1.2137\n",
      "Epoch 89/100\n",
      "4/4 [==============================] - 0s 5ms/step - loss: 1.2134\n",
      "Epoch 90/100\n",
      "4/4 [==============================] - 0s 0s/step - loss: 1.2130\n",
      "Epoch 91/100\n",
      "4/4 [==============================] - 0s 0s/step - loss: 1.2127\n",
      "Epoch 92/100\n",
      "4/4 [==============================] - 0s 5ms/step - loss: 1.2124\n",
      "Epoch 93/100\n",
      "4/4 [==============================] - 0s 5ms/step - loss: 1.2118\n",
      "Epoch 94/100\n",
      "4/4 [==============================] - 0s 4ms/step - loss: 1.2116\n",
      "Epoch 95/100\n",
      "4/4 [==============================] - 0s 0s/step - loss: 1.2111\n",
      "Epoch 96/100\n",
      "4/4 [==============================] - 0s 0s/step - loss: 1.2108\n",
      "Epoch 97/100\n",
      "4/4 [==============================] - 0s 0s/step - loss: 1.2103\n",
      "Epoch 98/100\n",
      "4/4 [==============================] - 0s 0s/step - loss: 1.2100\n",
      "Epoch 99/100\n",
      "4/4 [==============================] - 0s 5ms/step - loss: 1.2096\n",
      "Epoch 100/100\n",
      "4/4 [==============================] - 0s 0s/step - loss: 1.2092\n",
      "1/1 [==============================] - 0s 104ms/step - loss: 1.2090\n",
      "Loss: 1.2090423107147217\n"
     ]
    }
   ],
   "source": [
    "import pandas as pd\n",
    "import plotly.express as px\n",
    "from sklearn.preprocessing import StandardScaler\n",
    "import tensorflow as tf\n",
    "from tensorflow.keras import layers, Model\n",
    "from tensorflow.keras.optimizers import Adam\n",
    "import numpy as np\n",
    "\n",
    "# Setear una semilla para evitar mucha variacion entre los datos \n",
    "np.random.seed(0)\n",
    "tf.random.set_seed(0)\n",
    "\n",
    "# Suponiendo que df_normalized ya existe\n",
    "# 2.1 Usar todas las observaciones para entrenar\n",
    "X_train = df_normalized.values\n",
    "\n",
    "# Número de características o dimensiones\n",
    "num_features = X_train.shape[1]\n",
    "\n",
    "# Asegurarse de que el número de características es 17\n",
    "assert num_features == 17, f\"Expected 17 features, but got {num_features}\"\n",
    "\n",
    "# 2.2 Definir la arquitectura\n",
    "input_layer = layers.Input(shape=(num_features,))\n",
    "encoder_1 = layers.Dense(12, activation='relu')(input_layer)\n",
    "encoder_2 = layers.Dense(8, activation='relu')(encoder_1)\n",
    "encoder_3 = layers.Dense(4, activation='relu')(encoder_2)\n",
    "bottleneck = layers.Dense(2, activation='relu')(encoder_3)\n",
    "decoder_1 = layers.Dense(4, activation='relu')(bottleneck)\n",
    "decoder_2 = layers.Dense(8, activation='relu')(decoder_1)\n",
    "decoder_3 = layers.Dense(12, activation='relu')(decoder_2)\n",
    "output_layer = layers.Dense(num_features, activation='sigmoid')(decoder_3)\n",
    "\n",
    "autoencoder = Model(inputs=input_layer, outputs=output_layer)\n",
    "\n",
    "# Modelo para la reducción de dimensionalidad\n",
    "encoder_model = Model(inputs=input_layer, outputs=bottleneck)\n",
    "\n",
    "# 2.3 Compilación y entrenamiento\n",
    "autoencoder.compile(loss=\"mse\", optimizer=Adam(lr=0.001))\n",
    "autoencoder.fit(X_train, X_train, epochs=100, batch_size=1)\n",
    "\n",
    "# 2.4 Evaluación\n",
    "loss = autoencoder.evaluate(X_train, X_train)\n",
    "print(f\"Loss: {loss}\")\n"
   ]
  },
  {
   "cell_type": "code",
   "execution_count": 299,
   "metadata": {},
   "outputs": [
    {
     "name": "stdout",
     "output_type": "stream",
     "text": [
      "1/1 [==============================] - 0s 53ms/step\n",
      "(4, 2)\n"
     ]
    }
   ],
   "source": [
    "# 3.1 Use the autoencoder to reduce the dimensions of the dataset to 2.\n",
    "encoded_data = encoder_model.predict(df_normalized)\n",
    "\n",
    "print(encoded_data.shape)  # Debería mostrar (17, 2) si todo fue correcto"
   ]
  },
  {
   "cell_type": "code",
   "execution_count": 300,
   "metadata": {},
   "outputs": [
    {
     "data": {
      "application/vnd.plotly.v1+json": {
       "config": {
        "plotlyServerURL": "https://plot.ly"
       },
       "data": [
        {
         "hovertemplate": "Country=England<br>Dimension 1=%{x}<br>Dimension 2=%{y}<extra></extra>",
         "legendgroup": "England",
         "marker": {
          "color": "#636efa",
          "symbol": "circle"
         },
         "mode": "markers",
         "name": "England",
         "orientation": "v",
         "showlegend": true,
         "type": "scatter",
         "x": [
          0
         ],
         "xaxis": "x",
         "y": [
          0
         ],
         "yaxis": "y"
        },
        {
         "hovertemplate": "Country=Wales<br>Dimension 1=%{x}<br>Dimension 2=%{y}<extra></extra>",
         "legendgroup": "Wales",
         "marker": {
          "color": "#EF553B",
          "symbol": "circle"
         },
         "mode": "markers",
         "name": "Wales",
         "orientation": "v",
         "showlegend": true,
         "type": "scatter",
         "x": [
          0
         ],
         "xaxis": "x",
         "y": [
          0.8812949061393738
         ],
         "yaxis": "y"
        },
        {
         "hovertemplate": "Country=Scotland<br>Dimension 1=%{x}<br>Dimension 2=%{y}<extra></extra>",
         "legendgroup": "Scotland",
         "marker": {
          "color": "#00cc96",
          "symbol": "circle"
         },
         "mode": "markers",
         "name": "Scotland",
         "orientation": "v",
         "showlegend": true,
         "type": "scatter",
         "x": [
          0
         ],
         "xaxis": "x",
         "y": [
          0.658652126789093
         ],
         "yaxis": "y"
        },
        {
         "hovertemplate": "Country=N.Ireland<br>Dimension 1=%{x}<br>Dimension 2=%{y}<extra></extra>",
         "legendgroup": "N.Ireland",
         "marker": {
          "color": "#ab63fa",
          "symbol": "circle"
         },
         "mode": "markers",
         "name": "N.Ireland",
         "orientation": "v",
         "showlegend": true,
         "type": "scatter",
         "x": [
          0
         ],
         "xaxis": "x",
         "y": [
          5.062881946563721
         ],
         "yaxis": "y"
        }
       ],
       "layout": {
        "height": 600,
        "legend": {
         "title": {
          "text": "Country"
         },
         "tracegroupgap": 0
        },
        "template": {
         "data": {
          "bar": [
           {
            "error_x": {
             "color": "#2a3f5f"
            },
            "error_y": {
             "color": "#2a3f5f"
            },
            "marker": {
             "line": {
              "color": "#E5ECF6",
              "width": 0.5
             },
             "pattern": {
              "fillmode": "overlay",
              "size": 10,
              "solidity": 0.2
             }
            },
            "type": "bar"
           }
          ],
          "barpolar": [
           {
            "marker": {
             "line": {
              "color": "#E5ECF6",
              "width": 0.5
             },
             "pattern": {
              "fillmode": "overlay",
              "size": 10,
              "solidity": 0.2
             }
            },
            "type": "barpolar"
           }
          ],
          "carpet": [
           {
            "aaxis": {
             "endlinecolor": "#2a3f5f",
             "gridcolor": "white",
             "linecolor": "white",
             "minorgridcolor": "white",
             "startlinecolor": "#2a3f5f"
            },
            "baxis": {
             "endlinecolor": "#2a3f5f",
             "gridcolor": "white",
             "linecolor": "white",
             "minorgridcolor": "white",
             "startlinecolor": "#2a3f5f"
            },
            "type": "carpet"
           }
          ],
          "choropleth": [
           {
            "colorbar": {
             "outlinewidth": 0,
             "ticks": ""
            },
            "type": "choropleth"
           }
          ],
          "contour": [
           {
            "colorbar": {
             "outlinewidth": 0,
             "ticks": ""
            },
            "colorscale": [
             [
              0,
              "#0d0887"
             ],
             [
              0.1111111111111111,
              "#46039f"
             ],
             [
              0.2222222222222222,
              "#7201a8"
             ],
             [
              0.3333333333333333,
              "#9c179e"
             ],
             [
              0.4444444444444444,
              "#bd3786"
             ],
             [
              0.5555555555555556,
              "#d8576b"
             ],
             [
              0.6666666666666666,
              "#ed7953"
             ],
             [
              0.7777777777777778,
              "#fb9f3a"
             ],
             [
              0.8888888888888888,
              "#fdca26"
             ],
             [
              1,
              "#f0f921"
             ]
            ],
            "type": "contour"
           }
          ],
          "contourcarpet": [
           {
            "colorbar": {
             "outlinewidth": 0,
             "ticks": ""
            },
            "type": "contourcarpet"
           }
          ],
          "heatmap": [
           {
            "colorbar": {
             "outlinewidth": 0,
             "ticks": ""
            },
            "colorscale": [
             [
              0,
              "#0d0887"
             ],
             [
              0.1111111111111111,
              "#46039f"
             ],
             [
              0.2222222222222222,
              "#7201a8"
             ],
             [
              0.3333333333333333,
              "#9c179e"
             ],
             [
              0.4444444444444444,
              "#bd3786"
             ],
             [
              0.5555555555555556,
              "#d8576b"
             ],
             [
              0.6666666666666666,
              "#ed7953"
             ],
             [
              0.7777777777777778,
              "#fb9f3a"
             ],
             [
              0.8888888888888888,
              "#fdca26"
             ],
             [
              1,
              "#f0f921"
             ]
            ],
            "type": "heatmap"
           }
          ],
          "heatmapgl": [
           {
            "colorbar": {
             "outlinewidth": 0,
             "ticks": ""
            },
            "colorscale": [
             [
              0,
              "#0d0887"
             ],
             [
              0.1111111111111111,
              "#46039f"
             ],
             [
              0.2222222222222222,
              "#7201a8"
             ],
             [
              0.3333333333333333,
              "#9c179e"
             ],
             [
              0.4444444444444444,
              "#bd3786"
             ],
             [
              0.5555555555555556,
              "#d8576b"
             ],
             [
              0.6666666666666666,
              "#ed7953"
             ],
             [
              0.7777777777777778,
              "#fb9f3a"
             ],
             [
              0.8888888888888888,
              "#fdca26"
             ],
             [
              1,
              "#f0f921"
             ]
            ],
            "type": "heatmapgl"
           }
          ],
          "histogram": [
           {
            "marker": {
             "pattern": {
              "fillmode": "overlay",
              "size": 10,
              "solidity": 0.2
             }
            },
            "type": "histogram"
           }
          ],
          "histogram2d": [
           {
            "colorbar": {
             "outlinewidth": 0,
             "ticks": ""
            },
            "colorscale": [
             [
              0,
              "#0d0887"
             ],
             [
              0.1111111111111111,
              "#46039f"
             ],
             [
              0.2222222222222222,
              "#7201a8"
             ],
             [
              0.3333333333333333,
              "#9c179e"
             ],
             [
              0.4444444444444444,
              "#bd3786"
             ],
             [
              0.5555555555555556,
              "#d8576b"
             ],
             [
              0.6666666666666666,
              "#ed7953"
             ],
             [
              0.7777777777777778,
              "#fb9f3a"
             ],
             [
              0.8888888888888888,
              "#fdca26"
             ],
             [
              1,
              "#f0f921"
             ]
            ],
            "type": "histogram2d"
           }
          ],
          "histogram2dcontour": [
           {
            "colorbar": {
             "outlinewidth": 0,
             "ticks": ""
            },
            "colorscale": [
             [
              0,
              "#0d0887"
             ],
             [
              0.1111111111111111,
              "#46039f"
             ],
             [
              0.2222222222222222,
              "#7201a8"
             ],
             [
              0.3333333333333333,
              "#9c179e"
             ],
             [
              0.4444444444444444,
              "#bd3786"
             ],
             [
              0.5555555555555556,
              "#d8576b"
             ],
             [
              0.6666666666666666,
              "#ed7953"
             ],
             [
              0.7777777777777778,
              "#fb9f3a"
             ],
             [
              0.8888888888888888,
              "#fdca26"
             ],
             [
              1,
              "#f0f921"
             ]
            ],
            "type": "histogram2dcontour"
           }
          ],
          "mesh3d": [
           {
            "colorbar": {
             "outlinewidth": 0,
             "ticks": ""
            },
            "type": "mesh3d"
           }
          ],
          "parcoords": [
           {
            "line": {
             "colorbar": {
              "outlinewidth": 0,
              "ticks": ""
             }
            },
            "type": "parcoords"
           }
          ],
          "pie": [
           {
            "automargin": true,
            "type": "pie"
           }
          ],
          "scatter": [
           {
            "fillpattern": {
             "fillmode": "overlay",
             "size": 10,
             "solidity": 0.2
            },
            "type": "scatter"
           }
          ],
          "scatter3d": [
           {
            "line": {
             "colorbar": {
              "outlinewidth": 0,
              "ticks": ""
             }
            },
            "marker": {
             "colorbar": {
              "outlinewidth": 0,
              "ticks": ""
             }
            },
            "type": "scatter3d"
           }
          ],
          "scattercarpet": [
           {
            "marker": {
             "colorbar": {
              "outlinewidth": 0,
              "ticks": ""
             }
            },
            "type": "scattercarpet"
           }
          ],
          "scattergeo": [
           {
            "marker": {
             "colorbar": {
              "outlinewidth": 0,
              "ticks": ""
             }
            },
            "type": "scattergeo"
           }
          ],
          "scattergl": [
           {
            "marker": {
             "colorbar": {
              "outlinewidth": 0,
              "ticks": ""
             }
            },
            "type": "scattergl"
           }
          ],
          "scattermapbox": [
           {
            "marker": {
             "colorbar": {
              "outlinewidth": 0,
              "ticks": ""
             }
            },
            "type": "scattermapbox"
           }
          ],
          "scatterpolar": [
           {
            "marker": {
             "colorbar": {
              "outlinewidth": 0,
              "ticks": ""
             }
            },
            "type": "scatterpolar"
           }
          ],
          "scatterpolargl": [
           {
            "marker": {
             "colorbar": {
              "outlinewidth": 0,
              "ticks": ""
             }
            },
            "type": "scatterpolargl"
           }
          ],
          "scatterternary": [
           {
            "marker": {
             "colorbar": {
              "outlinewidth": 0,
              "ticks": ""
             }
            },
            "type": "scatterternary"
           }
          ],
          "surface": [
           {
            "colorbar": {
             "outlinewidth": 0,
             "ticks": ""
            },
            "colorscale": [
             [
              0,
              "#0d0887"
             ],
             [
              0.1111111111111111,
              "#46039f"
             ],
             [
              0.2222222222222222,
              "#7201a8"
             ],
             [
              0.3333333333333333,
              "#9c179e"
             ],
             [
              0.4444444444444444,
              "#bd3786"
             ],
             [
              0.5555555555555556,
              "#d8576b"
             ],
             [
              0.6666666666666666,
              "#ed7953"
             ],
             [
              0.7777777777777778,
              "#fb9f3a"
             ],
             [
              0.8888888888888888,
              "#fdca26"
             ],
             [
              1,
              "#f0f921"
             ]
            ],
            "type": "surface"
           }
          ],
          "table": [
           {
            "cells": {
             "fill": {
              "color": "#EBF0F8"
             },
             "line": {
              "color": "white"
             }
            },
            "header": {
             "fill": {
              "color": "#C8D4E3"
             },
             "line": {
              "color": "white"
             }
            },
            "type": "table"
           }
          ]
         },
         "layout": {
          "annotationdefaults": {
           "arrowcolor": "#2a3f5f",
           "arrowhead": 0,
           "arrowwidth": 1
          },
          "autotypenumbers": "strict",
          "coloraxis": {
           "colorbar": {
            "outlinewidth": 0,
            "ticks": ""
           }
          },
          "colorscale": {
           "diverging": [
            [
             0,
             "#8e0152"
            ],
            [
             0.1,
             "#c51b7d"
            ],
            [
             0.2,
             "#de77ae"
            ],
            [
             0.3,
             "#f1b6da"
            ],
            [
             0.4,
             "#fde0ef"
            ],
            [
             0.5,
             "#f7f7f7"
            ],
            [
             0.6,
             "#e6f5d0"
            ],
            [
             0.7,
             "#b8e186"
            ],
            [
             0.8,
             "#7fbc41"
            ],
            [
             0.9,
             "#4d9221"
            ],
            [
             1,
             "#276419"
            ]
           ],
           "sequential": [
            [
             0,
             "#0d0887"
            ],
            [
             0.1111111111111111,
             "#46039f"
            ],
            [
             0.2222222222222222,
             "#7201a8"
            ],
            [
             0.3333333333333333,
             "#9c179e"
            ],
            [
             0.4444444444444444,
             "#bd3786"
            ],
            [
             0.5555555555555556,
             "#d8576b"
            ],
            [
             0.6666666666666666,
             "#ed7953"
            ],
            [
             0.7777777777777778,
             "#fb9f3a"
            ],
            [
             0.8888888888888888,
             "#fdca26"
            ],
            [
             1,
             "#f0f921"
            ]
           ],
           "sequentialminus": [
            [
             0,
             "#0d0887"
            ],
            [
             0.1111111111111111,
             "#46039f"
            ],
            [
             0.2222222222222222,
             "#7201a8"
            ],
            [
             0.3333333333333333,
             "#9c179e"
            ],
            [
             0.4444444444444444,
             "#bd3786"
            ],
            [
             0.5555555555555556,
             "#d8576b"
            ],
            [
             0.6666666666666666,
             "#ed7953"
            ],
            [
             0.7777777777777778,
             "#fb9f3a"
            ],
            [
             0.8888888888888888,
             "#fdca26"
            ],
            [
             1,
             "#f0f921"
            ]
           ]
          },
          "colorway": [
           "#636efa",
           "#EF553B",
           "#00cc96",
           "#ab63fa",
           "#FFA15A",
           "#19d3f3",
           "#FF6692",
           "#B6E880",
           "#FF97FF",
           "#FECB52"
          ],
          "font": {
           "color": "#2a3f5f"
          },
          "geo": {
           "bgcolor": "white",
           "lakecolor": "white",
           "landcolor": "#E5ECF6",
           "showlakes": true,
           "showland": true,
           "subunitcolor": "white"
          },
          "hoverlabel": {
           "align": "left"
          },
          "hovermode": "closest",
          "mapbox": {
           "style": "light"
          },
          "paper_bgcolor": "white",
          "plot_bgcolor": "#E5ECF6",
          "polar": {
           "angularaxis": {
            "gridcolor": "white",
            "linecolor": "white",
            "ticks": ""
           },
           "bgcolor": "#E5ECF6",
           "radialaxis": {
            "gridcolor": "white",
            "linecolor": "white",
            "ticks": ""
           }
          },
          "scene": {
           "xaxis": {
            "backgroundcolor": "#E5ECF6",
            "gridcolor": "white",
            "gridwidth": 2,
            "linecolor": "white",
            "showbackground": true,
            "ticks": "",
            "zerolinecolor": "white"
           },
           "yaxis": {
            "backgroundcolor": "#E5ECF6",
            "gridcolor": "white",
            "gridwidth": 2,
            "linecolor": "white",
            "showbackground": true,
            "ticks": "",
            "zerolinecolor": "white"
           },
           "zaxis": {
            "backgroundcolor": "#E5ECF6",
            "gridcolor": "white",
            "gridwidth": 2,
            "linecolor": "white",
            "showbackground": true,
            "ticks": "",
            "zerolinecolor": "white"
           }
          },
          "shapedefaults": {
           "line": {
            "color": "#2a3f5f"
           }
          },
          "ternary": {
           "aaxis": {
            "gridcolor": "white",
            "linecolor": "white",
            "ticks": ""
           },
           "baxis": {
            "gridcolor": "white",
            "linecolor": "white",
            "ticks": ""
           },
           "bgcolor": "#E5ECF6",
           "caxis": {
            "gridcolor": "white",
            "linecolor": "white",
            "ticks": ""
           }
          },
          "title": {
           "x": 0.05
          },
          "xaxis": {
           "automargin": true,
           "gridcolor": "white",
           "linecolor": "white",
           "ticks": "",
           "title": {
            "standoff": 15
           },
           "zerolinecolor": "white",
           "zerolinewidth": 2
          },
          "yaxis": {
           "automargin": true,
           "gridcolor": "white",
           "linecolor": "white",
           "ticks": "",
           "title": {
            "standoff": 15
           },
           "zerolinecolor": "white",
           "zerolinewidth": 2
          }
         }
        },
        "title": {
         "text": "Representación 2D de los datos codificados por país"
        },
        "width": 800,
        "xaxis": {
         "anchor": "y",
         "domain": [
          0,
          1
         ],
         "title": {
          "text": "Dimension 1"
         }
        },
        "yaxis": {
         "anchor": "x",
         "domain": [
          0,
          1
         ],
         "title": {
          "text": "Dimension 2"
         }
        }
       }
      }
     },
     "metadata": {},
     "output_type": "display_data"
    }
   ],
   "source": [
    "\n",
    "\n",
    "# Asegurando que los datos codificados tienen la forma correcta\n",
    "assert encoded_data.shape == (4, 2), \"La forma de los datos codificados no es correcta.\"\n",
    "\n",
    "# Creando un dataframe para las dimensiones codificadas\n",
    "df_encoded = pd.DataFrame(encoded_data, columns=['Dimension 1', 'Dimension 2'])\n",
    "df_encoded['Country'] = df_normalized.index  # Usar las filas del DataFrame normalizado como 'Country'\n",
    "\n",
    "# Dibujo del gráfico\n",
    "fig = px.scatter(df_encoded, \n",
    "                 x=\"Dimension 1\", \n",
    "                 y=\"Dimension 2\", \n",
    "                 color=\"Country\",\n",
    "                 title=\"Representación 2D de los datos codificados por país\",\n",
    "                 width=800,\n",
    "                 height=600)\n",
    "\n",
    "fig.show()\n"
   ]
  },
  {
   "cell_type": "markdown",
   "metadata": {},
   "source": [
    "## Interpretación de Patrones de Consumo:\n",
    "\n",
    "### Inglaterra, Escocia y Gales:\n",
    "Demografía: Estas regiones tienen poblaciones más urbanizadas en comparación con Irlanda del Norte. Las áreas urbanizadas tienden a tener un mayor acceso a una variedad de alimentos, incluidos los alimentos importados y procesados.\n",
    "\n",
    "Economía: Inglaterra, en particular, tiene una economía más diversificada y un PIB per cápita más alto en comparación con las otras regiones, lo que puede influir en la capacidad de gasto y, por lo tanto, en los patrones de consumo de alimentos.\n",
    "\n",
    "Cultura: La cultura alimentaria en estas regiones puede ser similar debido a su proximidad geográfica y a la influencia histórica compartida.\n",
    "\n",
    "### Irlanda del Norte (N.Ireland):\n",
    "Historia y Política: Irlanda del Norte ha tenido una historia política y social única en comparación con el resto del Reino Unido, con períodos de conflicto y tensiones. Estas circunstancias pueden haber influido en los patrones de comercio, la economía y, por ende, en el consumo de alimentos.\n",
    "\n",
    "Demografía: Irlanda del Norte es más rural en comparación con las otras regiones. Las áreas rurales pueden depender más de la agricultura local y tener diferentes patrones de consumo.\n",
    "\n",
    "Economía: La economía de Irlanda del Norte ha sido históricamente más dependiente de la agricultura, lo que podría influir en un consumo más alto de ciertos alimentos frescos o locales.\n",
    "\n",
    "Cultura: Las tradiciones culinarias de Irlanda del Norte podrían diferir de las del resto del Reino Unido debido a las influencias culturales tanto de la República de Irlanda como del Reino Unido.\n",
    "\n",
    "\n",
    "#### Con relacion a la grafica obtenida:\n",
    "Inglaterra, Escocia y Gales:\n",
    "Estas tres regiones, al estar agrupadas cerca una de la otra en el eje Dimension 2, comparten patrones similares de consumo de alimentos. La urbanización en Inglaterra y Gales podría llevar a patrones de consumo similares, con una variedad más amplia de alimentos disponibles y posiblemente un mayor consumo de alimentos procesados o importados.\n",
    "La economía diversificada y el mayor PIB per cápita en Inglaterra podrían influir en una dieta más variada, pero, dado que Escocia y Gales están cercanas en la representación, sus patrones de consumo no difieren drásticamente de los de Inglaterra.\n",
    "Las similitudes culturales y la proximidad geográfica también podrían contribuir a hábitos alimenticios compartidos entre estas regiones.\n",
    "Irlanda del Norte (N.Ireland):\n",
    "\n",
    "La notable separación de Irlanda del Norte en el eje Dimension 2 indica un patrón de consumo de alimentos muy diferente en comparación con las otras tres regiones.\n",
    "La historia política y social única de Irlanda del Norte podría haber llevado a diferentes patrones comerciales y de acceso a ciertos alimentos.\n",
    "La naturaleza más rural de Irlanda del Norte podría reflejarse en un consumo más alto de alimentos agrícolas frescos y locales. Esto podría explicar por qué se destaca en comparación con las otras regiones que tienen un carácter más urbanizado.\n",
    "Las tradiciones culinarias distintas en Irlanda del Norte, influenciadas tanto por la República de Irlanda como por el Reino Unido, podrían haber llevado a una preferencia por ciertos alimentos que no son tan populares en las otras regiones."
   ]
  },
  {
   "cell_type": "markdown",
   "metadata": {},
   "source": [
    "## Evaluación de Rendimiento del Modelo:\n",
    "\n",
    "#### Pérdida del Autocodificador:\n",
    "La pérdida final del autocodificador después de 100 épocas es 1.2090423107147217. Es generalmente aceptado que una pérdida más baja indica una mejor capacidad del modelo para comprimir y reconstruir los datos. Siempre es útil monitorear cómo evoluciona esta pérdida a lo largo de las épocas para determinar si el modelo ha convergido o si podría beneficiarse de más épocas de entrenamiento.\n",
    "\n",
    "#### Tamaño del Bottleneck:\n",
    "Se eligio una dimensionalidad de 2 para el bottleneck, lo cual permite visualizar fácilmente los datos en un espacio 2D y es valioso para la interpretación. Sin embargo, es posible que una dimensionalidad mayor capture más variabilidad de los datos y reduzca la pérdida. En el futuro, se considerará experimentar con diferentes tamaños de bottleneck para ver cómo afecta al rendimiento y a la interpretación.\n",
    "\n",
    "#### Sensibilidad a Hiperparámetros:\n",
    "Se experimento con diferentes tasas de aprendizaje y se encontró que 0.001 funciona mejor. Esto indica que el modelo es sensible a la tasa de aprendizaje y que elegir el hiperparámetro adecuado puede mejorar significativamente el rendimiento. En futuras investigaciones, también se considerará experimentar con diferentes funciones de activación, arquitecturas de red y otros hiperparámetros."
   ]
  }
 ],
 "metadata": {
  "kernelspec": {
   "display_name": "Python 3",
   "language": "python",
   "name": "python3"
  },
  "language_info": {
   "codemirror_mode": {
    "name": "ipython",
    "version": 3
   },
   "file_extension": ".py",
   "mimetype": "text/x-python",
   "name": "python",
   "nbconvert_exporter": "python",
   "pygments_lexer": "ipython3",
   "version": "3.10.4"
  },
  "orig_nbformat": 4
 },
 "nbformat": 4,
 "nbformat_minor": 2
}
