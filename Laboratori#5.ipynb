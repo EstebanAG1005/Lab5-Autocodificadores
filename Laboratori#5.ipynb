{
 "cells": [
  {
   "cell_type": "markdown",
   "metadata": {},
   "source": [
    "## Laboratorio 5 - Autocodificadores"
   ]
  },
  {
   "cell_type": "code",
   "execution_count": 211,
   "metadata": {},
   "outputs": [
    {
     "name": "stdout",
     "output_type": "stream",
     "text": [
      "           Cheese  Carcass_meat   Other_meat   Fish  Fats_and_oils   Sugars  \\\n",
      "England       105            245          685   147             193     156   \n",
      "Wales         103            227          803   160             235     175   \n",
      "Scotland      103            242          750   122             184     147   \n",
      "N.Ireland      66            267          586    93             209     139   \n",
      "\n",
      "           Fresh_potatoes   Fresh_Veg   Other_Veg   Processed_potatoes   \\\n",
      "England                720         253         488                  198   \n",
      "Wales                  874         265         570                  203   \n",
      "Scotland               566         171         418                  220   \n",
      "N.Ireland             1033         143         355                  187   \n",
      "\n",
      "           Processed_Veg   Fresh_fruit   Cereals   Beverages  Soft_drinks   \\\n",
      "England               360          1102      1472         57          1374   \n",
      "Wales                 365          1137      1582         73          1256   \n",
      "Scotland              337           957      1462         53          1572   \n",
      "N.Ireland             334           674      1494         47          1506   \n",
      "\n",
      "           Alcoholic_drinks   Confectionery   \n",
      "England                  375              54  \n",
      "Wales                    475              64  \n",
      "Scotland                 458              62  \n",
      "N.Ireland                135              41  \n"
     ]
    }
   ],
   "source": [
    "import pandas as pd\n",
    "from sklearn.preprocessing import StandardScaler\n",
    "import matplotlib.pyplot as plt\n",
    "import tensorflow as tf\n",
    "from tensorflow.keras import layers, Model\n",
    "\n",
    "# 1.1 Cargar los datos\n",
    "df = pd.read_csv('UK_foods.csv', index_col=0)  # Suponiendo que la primera columna contiene los nombres de los alimentos\n",
    "\n",
    "# Transponer el DataFrame para que los países sean las observaciones y los alimentos las características\n",
    "df = df.transpose()\n",
    "\n",
    "print(df.head())"
   ]
  },
  {
   "cell_type": "code",
   "execution_count": 212,
   "metadata": {},
   "outputs": [
    {
     "name": "stdout",
     "output_type": "stream",
     "text": [
      "           Cheese  Carcass_meat   Other_meat         Fish  Fats_and_oils   \\\n",
      "count    4.000000           4.00     4.000000    4.000000        4.000000   \n",
      "mean    94.250000         245.25   706.000000  130.500000      205.250000   \n",
      "std     18.856917          16.50    93.427334   29.557853       22.366269   \n",
      "min     66.000000         227.00   586.000000   93.000000      184.000000   \n",
      "25%     93.750000         238.25   660.250000  114.750000      190.750000   \n",
      "50%    103.000000         243.50   717.500000  134.500000      201.000000   \n",
      "75%    103.500000         250.50   763.250000  150.250000      215.500000   \n",
      "max    105.000000         267.00   803.000000  160.000000      235.000000   \n",
      "\n",
      "          Sugars  Fresh_potatoes   Fresh_Veg   Other_Veg   \\\n",
      "count    4.00000         4.000000    4.000000    4.000000   \n",
      "mean   154.25000       798.250000  208.000000  457.750000   \n",
      "std     15.47848       200.755863   60.188592   92.471167   \n",
      "min    139.00000       566.000000  143.000000  355.000000   \n",
      "25%    145.00000       681.500000  164.000000  402.250000   \n",
      "50%    151.50000       797.000000  212.000000  453.000000   \n",
      "75%    160.75000       913.750000  256.000000  508.500000   \n",
      "max    175.00000      1033.000000  265.000000  570.000000   \n",
      "\n",
      "       Processed_potatoes   Processed_Veg   Fresh_fruit      Cereals   \\\n",
      "count             4.000000        4.000000      4.000000     4.000000   \n",
      "mean            202.000000      349.000000    967.500000  1502.500000   \n",
      "std              13.735599       15.769168    210.612599    54.659552   \n",
      "min             187.000000      334.000000    674.000000  1462.000000   \n",
      "25%             195.250000      336.250000    886.250000  1469.500000   \n",
      "50%             200.500000      348.500000   1029.500000  1483.000000   \n",
      "75%             207.250000      361.250000   1110.750000  1516.000000   \n",
      "max             220.000000      365.000000   1137.000000  1582.000000   \n",
      "\n",
      "       Beverages  Soft_drinks   Alcoholic_drinks   Confectionery   \n",
      "count   4.000000      4.000000           4.000000        4.000000  \n",
      "mean   57.500000   1427.000000         360.750000       55.250000  \n",
      "std    11.120552    140.612944         156.712848       10.436315  \n",
      "min    47.000000   1256.000000         135.000000       41.000000  \n",
      "25%    51.500000   1344.500000         315.000000       50.750000  \n",
      "50%    55.000000   1440.000000         416.500000       58.000000  \n",
      "75%    61.000000   1522.500000         462.250000       62.500000  \n",
      "max    73.000000   1572.000000         475.000000       64.000000  \n"
     ]
    }
   ],
   "source": [
    "# 1.2 Exploración básica\n",
    "print(df.describe())"
   ]
  },
  {
   "cell_type": "code",
   "execution_count": 213,
   "metadata": {},
   "outputs": [
    {
     "name": "stdout",
     "output_type": "stream",
     "text": [
      "             Cheese  Carcass_meat   Other_meat       Fish  Fats_and_oils   \\\n",
      "England    0.658275      -0.017495    -0.259546  0.644585       -0.632429   \n",
      "Wales      0.535805      -1.277169     1.198856  1.152440        1.535899   \n",
      "Scotland   0.535805      -0.227441     0.543811 -0.332059       -1.097071   \n",
      "N.Ireland -1.729885       1.522105    -1.483121 -1.464967        0.193601   \n",
      "\n",
      "             Sugars  Fresh_potatoes   Fresh_Veg   Other_Veg   \\\n",
      "England    0.130551        -0.450076    0.863312    0.377736   \n",
      "Wales      1.547958         0.435696    1.093528    1.401682   \n",
      "Scotland  -0.540853        -1.335847   -0.709834   -0.496364   \n",
      "N.Ireland -1.137656         1.350227   -1.247006   -1.283054   \n",
      "\n",
      "           Processed_potatoes   Processed_Veg   Fresh_fruit   Cereals   \\\n",
      "England              -0.336265        0.805477      0.737407 -0.644322   \n",
      "Wales                 0.084066        1.171603      0.929297  1.679463   \n",
      "Scotland              1.513193       -0.878702     -0.057567 -0.855575   \n",
      "N.Ireland            -1.260994       -1.098378     -1.609137 -0.179565   \n",
      "\n",
      "           Beverages  Soft_drinks   Alcoholic_drinks   Confectionery   \n",
      "England    -0.051917     -0.435231           0.104998       -0.138303  \n",
      "Wales       1.609440     -1.404236           0.841823        0.968122  \n",
      "Scotland   -0.467257      1.190727           0.716563        0.746837  \n",
      "N.Ireland  -1.090266      0.648741          -1.663384       -1.576656  \n"
     ]
    }
   ],
   "source": [
    "# 1.3 Normalización\n",
    "scaler = StandardScaler()\n",
    "df_normalized = pd.DataFrame(scaler.fit_transform(df), columns=df.columns, index=df.index)\n",
    "print(df_normalized)"
   ]
  },
  {
   "cell_type": "code",
   "execution_count": 214,
   "metadata": {},
   "outputs": [
    {
     "name": "stderr",
     "output_type": "stream",
     "text": [
      "WARNING:absl:`lr` is deprecated in Keras optimizer, please use `learning_rate` or use the legacy optimizer, e.g.,tf.keras.optimizers.legacy.Adam.\n"
     ]
    },
    {
     "name": "stdout",
     "output_type": "stream",
     "text": [
      "Epoch 1/100\n",
      "4/4 [==============================] - 1s 7ms/step - loss: 1.2526\n",
      "Epoch 2/100\n",
      "4/4 [==============================] - 0s 4ms/step - loss: 1.2516\n",
      "Epoch 3/100\n",
      "4/4 [==============================] - 0s 4ms/step - loss: 1.2507\n",
      "Epoch 4/100\n",
      "4/4 [==============================] - 0s 0s/step - loss: 1.2498\n",
      "Epoch 5/100\n",
      "4/4 [==============================] - 0s 5ms/step - loss: 1.2491\n",
      "Epoch 6/100\n",
      "4/4 [==============================] - 0s 5ms/step - loss: 1.2483\n",
      "Epoch 7/100\n",
      "4/4 [==============================] - 0s 0s/step - loss: 1.2474\n",
      "Epoch 8/100\n",
      "4/4 [==============================] - 0s 0s/step - loss: 1.2468\n",
      "Epoch 9/100\n",
      "4/4 [==============================] - 0s 5ms/step - loss: 1.2464\n",
      "Epoch 10/100\n",
      "4/4 [==============================] - 0s 0s/step - loss: 1.2461\n",
      "Epoch 11/100\n",
      "4/4 [==============================] - 0s 0s/step - loss: 1.2455\n",
      "Epoch 12/100\n",
      "4/4 [==============================] - 0s 839us/step - loss: 1.2452\n",
      "Epoch 13/100\n",
      "4/4 [==============================] - 0s 5ms/step - loss: 1.2447\n",
      "Epoch 14/100\n",
      "4/4 [==============================] - 0s 5ms/step - loss: 1.2442\n",
      "Epoch 15/100\n",
      "4/4 [==============================] - 0s 0s/step - loss: 1.2438\n",
      "Epoch 16/100\n",
      "4/4 [==============================] - 0s 0s/step - loss: 1.2432\n",
      "Epoch 17/100\n",
      "4/4 [==============================] - 0s 0s/step - loss: 1.2429\n",
      "Epoch 18/100\n",
      "4/4 [==============================] - 0s 5ms/step - loss: 1.2423\n",
      "Epoch 19/100\n",
      "4/4 [==============================] - 0s 0s/step - loss: 1.2419\n",
      "Epoch 20/100\n",
      "4/4 [==============================] - 0s 3ms/step - loss: 1.2416\n",
      "Epoch 21/100\n",
      "4/4 [==============================] - 0s 3ms/step - loss: 1.2410\n",
      "Epoch 22/100\n",
      "4/4 [==============================] - 0s 5ms/step - loss: 1.2406\n",
      "Epoch 23/100\n",
      "4/4 [==============================] - 0s 0s/step - loss: 1.2402\n",
      "Epoch 24/100\n",
      "4/4 [==============================] - 0s 2ms/step - loss: 1.2396\n",
      "Epoch 25/100\n",
      "4/4 [==============================] - 0s 0s/step - loss: 1.2394\n",
      "Epoch 26/100\n",
      "4/4 [==============================] - 0s 0s/step - loss: 1.2390\n",
      "Epoch 27/100\n",
      "4/4 [==============================] - 0s 5ms/step - loss: 1.2385\n",
      "Epoch 28/100\n",
      "4/4 [==============================] - 0s 508us/step - loss: 1.2379\n",
      "Epoch 29/100\n",
      "4/4 [==============================] - 0s 5ms/step - loss: 1.2375\n",
      "Epoch 30/100\n",
      "4/4 [==============================] - 0s 5ms/step - loss: 1.2370\n",
      "Epoch 31/100\n",
      "4/4 [==============================] - 0s 5ms/step - loss: 1.2366\n",
      "Epoch 32/100\n",
      "4/4 [==============================] - 0s 5ms/step - loss: 1.2362\n",
      "Epoch 33/100\n",
      "4/4 [==============================] - 0s 0s/step - loss: 1.2357\n",
      "Epoch 34/100\n",
      "4/4 [==============================] - 0s 0s/step - loss: 1.2355\n",
      "Epoch 35/100\n",
      "4/4 [==============================] - 0s 2ms/step - loss: 1.2349\n",
      "Epoch 36/100\n",
      "4/4 [==============================] - 0s 4ms/step - loss: 1.2344\n",
      "Epoch 37/100\n",
      "4/4 [==============================] - 0s 0s/step - loss: 1.2340\n",
      "Epoch 38/100\n",
      "4/4 [==============================] - 0s 0s/step - loss: 1.2335\n",
      "Epoch 39/100\n",
      "4/4 [==============================] - 0s 5ms/step - loss: 1.2331\n",
      "Epoch 40/100\n",
      "4/4 [==============================] - 0s 5ms/step - loss: 1.2326\n",
      "Epoch 41/100\n",
      "4/4 [==============================] - 0s 0s/step - loss: 1.2321\n",
      "Epoch 42/100\n",
      "4/4 [==============================] - 0s 0s/step - loss: 1.2316\n",
      "Epoch 43/100\n",
      "4/4 [==============================] - 0s 5ms/step - loss: 1.2312\n",
      "Epoch 44/100\n",
      "4/4 [==============================] - 0s 4ms/step - loss: 1.2308\n",
      "Epoch 45/100\n",
      "4/4 [==============================] - 0s 3ms/step - loss: 1.2302\n",
      "Epoch 46/100\n",
      "4/4 [==============================] - 0s 3ms/step - loss: 1.2297\n",
      "Epoch 47/100\n",
      "4/4 [==============================] - 0s 3ms/step - loss: 1.2294\n",
      "Epoch 48/100\n",
      "4/4 [==============================] - 0s 3ms/step - loss: 1.2288\n",
      "Epoch 49/100\n",
      "4/4 [==============================] - 0s 2ms/step - loss: 1.2272\n",
      "Epoch 50/100\n",
      "4/4 [==============================] - 0s 0s/step - loss: 1.2246\n",
      "Epoch 51/100\n",
      "4/4 [==============================] - 0s 0s/step - loss: 1.2231\n",
      "Epoch 52/100\n",
      "4/4 [==============================] - 0s 5ms/step - loss: 1.2206\n",
      "Epoch 53/100\n",
      "4/4 [==============================] - 0s 0s/step - loss: 1.2170\n",
      "Epoch 54/100\n",
      "4/4 [==============================] - 0s 0s/step - loss: 1.2149\n",
      "Epoch 55/100\n",
      "4/4 [==============================] - 0s 5ms/step - loss: 1.2102\n",
      "Epoch 56/100\n",
      "4/4 [==============================] - 0s 5ms/step - loss: 1.2083\n",
      "Epoch 57/100\n",
      "4/4 [==============================] - 0s 5ms/step - loss: 1.2041\n",
      "Epoch 58/100\n",
      "4/4 [==============================] - 0s 5ms/step - loss: 1.2017\n",
      "Epoch 59/100\n",
      "4/4 [==============================] - 0s 5ms/step - loss: 1.1969\n",
      "Epoch 60/100\n",
      "4/4 [==============================] - 0s 5ms/step - loss: 1.1922\n",
      "Epoch 61/100\n",
      "4/4 [==============================] - 0s 0s/step - loss: 1.1875\n",
      "Epoch 62/100\n",
      "4/4 [==============================] - 0s 0s/step - loss: 1.1859\n",
      "Epoch 63/100\n",
      "4/4 [==============================] - 0s 5ms/step - loss: 1.1801\n",
      "Epoch 64/100\n",
      "4/4 [==============================] - 0s 5ms/step - loss: 1.1751\n",
      "Epoch 65/100\n",
      "4/4 [==============================] - 0s 0s/step - loss: 1.1716\n",
      "Epoch 66/100\n",
      "4/4 [==============================] - 0s 0s/step - loss: 1.1680\n",
      "Epoch 67/100\n",
      "4/4 [==============================] - 0s 5ms/step - loss: 1.1623\n",
      "Epoch 68/100\n",
      "4/4 [==============================] - 0s 5ms/step - loss: 1.1574\n",
      "Epoch 69/100\n",
      "4/4 [==============================] - 0s 0s/step - loss: 1.1534\n",
      "Epoch 70/100\n",
      "4/4 [==============================] - 0s 0s/step - loss: 1.1506\n",
      "Epoch 71/100\n",
      "4/4 [==============================] - 0s 5ms/step - loss: 1.1457\n",
      "Epoch 72/100\n",
      "4/4 [==============================] - 0s 5ms/step - loss: 1.1398\n",
      "Epoch 73/100\n",
      "4/4 [==============================] - 0s 0s/step - loss: 1.1342\n",
      "Epoch 74/100\n",
      "4/4 [==============================] - 0s 0s/step - loss: 1.1309\n",
      "Epoch 75/100\n",
      "4/4 [==============================] - 0s 5ms/step - loss: 1.1251\n",
      "Epoch 76/100\n",
      "4/4 [==============================] - 0s 5ms/step - loss: 1.1203\n",
      "Epoch 77/100\n",
      "4/4 [==============================] - 0s 0s/step - loss: 1.1176\n",
      "Epoch 78/100\n",
      "4/4 [==============================] - 0s 0s/step - loss: 1.1104\n",
      "Epoch 79/100\n",
      "4/4 [==============================] - 0s 5ms/step - loss: 1.1073\n",
      "Epoch 80/100\n",
      "4/4 [==============================] - 0s 5ms/step - loss: 1.1015\n",
      "Epoch 81/100\n",
      "4/4 [==============================] - 0s 0s/step - loss: 1.0960\n",
      "Epoch 82/100\n",
      "4/4 [==============================] - 0s 0s/step - loss: 1.0899\n",
      "Epoch 83/100\n",
      "4/4 [==============================] - 0s 5ms/step - loss: 1.0866\n",
      "Epoch 84/100\n",
      "4/4 [==============================] - 0s 5ms/step - loss: 1.0799\n",
      "Epoch 85/100\n",
      "4/4 [==============================] - 0s 4ms/step - loss: 1.0764\n",
      "Epoch 86/100\n",
      "4/4 [==============================] - 0s 0s/step - loss: 1.0718\n",
      "Epoch 87/100\n",
      "4/4 [==============================] - 0s 0s/step - loss: 1.0659\n",
      "Epoch 88/100\n",
      "4/4 [==============================] - 0s 0s/step - loss: 1.0617\n",
      "Epoch 89/100\n",
      "4/4 [==============================] - 0s 0s/step - loss: 1.0580\n",
      "Epoch 90/100\n",
      "4/4 [==============================] - 0s 0s/step - loss: 1.0536\n",
      "Epoch 91/100\n",
      "4/4 [==============================] - 0s 5ms/step - loss: 1.0494\n",
      "Epoch 92/100\n",
      "4/4 [==============================] - 0s 5ms/step - loss: 1.0459\n",
      "Epoch 93/100\n",
      "4/4 [==============================] - 0s 0s/step - loss: 1.0401\n",
      "Epoch 94/100\n",
      "4/4 [==============================] - 0s 0s/step - loss: 1.0366\n",
      "Epoch 95/100\n",
      "4/4 [==============================] - 0s 5ms/step - loss: 1.0309\n",
      "Epoch 96/100\n",
      "4/4 [==============================] - 0s 0s/step - loss: 1.0282\n",
      "Epoch 97/100\n",
      "4/4 [==============================] - 0s 0s/step - loss: 1.0229\n",
      "Epoch 98/100\n",
      "4/4 [==============================] - 0s 5ms/step - loss: 1.0205\n",
      "Epoch 99/100\n",
      "4/4 [==============================] - 0s 5ms/step - loss: 1.0166\n",
      "Epoch 100/100\n",
      "4/4 [==============================] - 0s 0s/step - loss: 1.0119\n",
      "1/1 [==============================] - 0s 110ms/step - loss: 1.0107\n",
      "Loss: 1.010711431503296\n"
     ]
    }
   ],
   "source": [
    "import pandas as pd\n",
    "import plotly.express as px\n",
    "from sklearn.preprocessing import StandardScaler\n",
    "import tensorflow as tf\n",
    "from tensorflow.keras import layers, Model\n",
    "from tensorflow.keras.optimizers import Adam\n",
    "import numpy as np\n",
    "\n",
    "# 2.1 Usar todas las observaciones para entrenar\n",
    "X_train = df_normalized.values\n",
    "\n",
    "# Número de características o dimensiones\n",
    "num_features = X_train.shape[1]\n",
    "\n",
    "# 2.2 Definir la arquitectura\n",
    "input_layer = layers.Input(shape=(num_features,))\n",
    "encoder = layers.Dense(4, activation='relu')(input_layer)\n",
    "bottleneck = layers.Dense(2, activation='relu')(encoder)\n",
    "decoder = layers.Dense(4, activation='relu')(bottleneck)\n",
    "output_layer = layers.Dense(num_features, activation='sigmoid')(decoder)\n",
    "\n",
    "autoencoder = Model(inputs=input_layer, outputs=output_layer)\n",
    "\n",
    "# Modelo para la reducción de dimensionalidad\n",
    "encoder_model = Model(inputs=input_layer, outputs=bottleneck)\n",
    "\n",
    "# 2.3 Compilación y entrenamiento\n",
    "autoencoder.compile(loss=\"mse\", optimizer=Adam(lr=0.001))\n",
    "autoencoder.fit(X_train, X_train, epochs=100, batch_size=1)\n",
    "\n",
    "# 2.4 Evaluación\n",
    "loss = autoencoder.evaluate(X_train, X_train)\n",
    "print(f\"Loss: {loss}\")\n"
   ]
  },
  {
   "cell_type": "code",
   "execution_count": 215,
   "metadata": {},
   "outputs": [
    {
     "name": "stdout",
     "output_type": "stream",
     "text": [
      "1/1 [==============================] - 0s 46ms/step\n",
      "(4, 2)\n"
     ]
    }
   ],
   "source": [
    "# 3.1 Use the autoencoder to reduce the dimensions of the dataset to 2.\n",
    "encoded_data = encoder_model.predict(df_normalized)\n",
    "\n",
    "print(encoded_data.shape)  # Debería mostrar (17, 2) si todo fue correcto"
   ]
  },
  {
   "cell_type": "code",
   "execution_count": 216,
   "metadata": {},
   "outputs": [
    {
     "data": {
      "application/vnd.plotly.v1+json": {
       "config": {
        "plotlyServerURL": "https://plot.ly"
       },
       "data": [
        {
         "hovertemplate": "Country=England<br>Dimension 1=%{x}<br>Dimension 2=%{y}<extra></extra>",
         "legendgroup": "England",
         "marker": {
          "color": "#636efa",
          "symbol": "circle"
         },
         "mode": "markers",
         "name": "England",
         "orientation": "v",
         "showlegend": true,
         "type": "scatter",
         "x": [
          0
         ],
         "xaxis": "x",
         "y": [
          0.2833947539329529
         ],
         "yaxis": "y"
        },
        {
         "hovertemplate": "Country=Wales<br>Dimension 1=%{x}<br>Dimension 2=%{y}<extra></extra>",
         "legendgroup": "Wales",
         "marker": {
          "color": "#EF553B",
          "symbol": "circle"
         },
         "mode": "markers",
         "name": "Wales",
         "orientation": "v",
         "showlegend": true,
         "type": "scatter",
         "x": [
          0
         ],
         "xaxis": "x",
         "y": [
          0
         ],
         "yaxis": "y"
        },
        {
         "hovertemplate": "Country=Scotland<br>Dimension 1=%{x}<br>Dimension 2=%{y}<extra></extra>",
         "legendgroup": "Scotland",
         "marker": {
          "color": "#00cc96",
          "symbol": "circle"
         },
         "mode": "markers",
         "name": "Scotland",
         "orientation": "v",
         "showlegend": true,
         "type": "scatter",
         "x": [
          0
         ],
         "xaxis": "x",
         "y": [
          4.047163963317871
         ],
         "yaxis": "y"
        },
        {
         "hovertemplate": "Country=N.Ireland<br>Dimension 1=%{x}<br>Dimension 2=%{y}<extra></extra>",
         "legendgroup": "N.Ireland",
         "marker": {
          "color": "#ab63fa",
          "symbol": "circle"
         },
         "mode": "markers",
         "name": "N.Ireland",
         "orientation": "v",
         "showlegend": true,
         "type": "scatter",
         "x": [
          0
         ],
         "xaxis": "x",
         "y": [
          6.398128509521484
         ],
         "yaxis": "y"
        }
       ],
       "layout": {
        "height": 600,
        "legend": {
         "title": {
          "text": "Country"
         },
         "tracegroupgap": 0
        },
        "template": {
         "data": {
          "bar": [
           {
            "error_x": {
             "color": "#2a3f5f"
            },
            "error_y": {
             "color": "#2a3f5f"
            },
            "marker": {
             "line": {
              "color": "#E5ECF6",
              "width": 0.5
             },
             "pattern": {
              "fillmode": "overlay",
              "size": 10,
              "solidity": 0.2
             }
            },
            "type": "bar"
           }
          ],
          "barpolar": [
           {
            "marker": {
             "line": {
              "color": "#E5ECF6",
              "width": 0.5
             },
             "pattern": {
              "fillmode": "overlay",
              "size": 10,
              "solidity": 0.2
             }
            },
            "type": "barpolar"
           }
          ],
          "carpet": [
           {
            "aaxis": {
             "endlinecolor": "#2a3f5f",
             "gridcolor": "white",
             "linecolor": "white",
             "minorgridcolor": "white",
             "startlinecolor": "#2a3f5f"
            },
            "baxis": {
             "endlinecolor": "#2a3f5f",
             "gridcolor": "white",
             "linecolor": "white",
             "minorgridcolor": "white",
             "startlinecolor": "#2a3f5f"
            },
            "type": "carpet"
           }
          ],
          "choropleth": [
           {
            "colorbar": {
             "outlinewidth": 0,
             "ticks": ""
            },
            "type": "choropleth"
           }
          ],
          "contour": [
           {
            "colorbar": {
             "outlinewidth": 0,
             "ticks": ""
            },
            "colorscale": [
             [
              0,
              "#0d0887"
             ],
             [
              0.1111111111111111,
              "#46039f"
             ],
             [
              0.2222222222222222,
              "#7201a8"
             ],
             [
              0.3333333333333333,
              "#9c179e"
             ],
             [
              0.4444444444444444,
              "#bd3786"
             ],
             [
              0.5555555555555556,
              "#d8576b"
             ],
             [
              0.6666666666666666,
              "#ed7953"
             ],
             [
              0.7777777777777778,
              "#fb9f3a"
             ],
             [
              0.8888888888888888,
              "#fdca26"
             ],
             [
              1,
              "#f0f921"
             ]
            ],
            "type": "contour"
           }
          ],
          "contourcarpet": [
           {
            "colorbar": {
             "outlinewidth": 0,
             "ticks": ""
            },
            "type": "contourcarpet"
           }
          ],
          "heatmap": [
           {
            "colorbar": {
             "outlinewidth": 0,
             "ticks": ""
            },
            "colorscale": [
             [
              0,
              "#0d0887"
             ],
             [
              0.1111111111111111,
              "#46039f"
             ],
             [
              0.2222222222222222,
              "#7201a8"
             ],
             [
              0.3333333333333333,
              "#9c179e"
             ],
             [
              0.4444444444444444,
              "#bd3786"
             ],
             [
              0.5555555555555556,
              "#d8576b"
             ],
             [
              0.6666666666666666,
              "#ed7953"
             ],
             [
              0.7777777777777778,
              "#fb9f3a"
             ],
             [
              0.8888888888888888,
              "#fdca26"
             ],
             [
              1,
              "#f0f921"
             ]
            ],
            "type": "heatmap"
           }
          ],
          "heatmapgl": [
           {
            "colorbar": {
             "outlinewidth": 0,
             "ticks": ""
            },
            "colorscale": [
             [
              0,
              "#0d0887"
             ],
             [
              0.1111111111111111,
              "#46039f"
             ],
             [
              0.2222222222222222,
              "#7201a8"
             ],
             [
              0.3333333333333333,
              "#9c179e"
             ],
             [
              0.4444444444444444,
              "#bd3786"
             ],
             [
              0.5555555555555556,
              "#d8576b"
             ],
             [
              0.6666666666666666,
              "#ed7953"
             ],
             [
              0.7777777777777778,
              "#fb9f3a"
             ],
             [
              0.8888888888888888,
              "#fdca26"
             ],
             [
              1,
              "#f0f921"
             ]
            ],
            "type": "heatmapgl"
           }
          ],
          "histogram": [
           {
            "marker": {
             "pattern": {
              "fillmode": "overlay",
              "size": 10,
              "solidity": 0.2
             }
            },
            "type": "histogram"
           }
          ],
          "histogram2d": [
           {
            "colorbar": {
             "outlinewidth": 0,
             "ticks": ""
            },
            "colorscale": [
             [
              0,
              "#0d0887"
             ],
             [
              0.1111111111111111,
              "#46039f"
             ],
             [
              0.2222222222222222,
              "#7201a8"
             ],
             [
              0.3333333333333333,
              "#9c179e"
             ],
             [
              0.4444444444444444,
              "#bd3786"
             ],
             [
              0.5555555555555556,
              "#d8576b"
             ],
             [
              0.6666666666666666,
              "#ed7953"
             ],
             [
              0.7777777777777778,
              "#fb9f3a"
             ],
             [
              0.8888888888888888,
              "#fdca26"
             ],
             [
              1,
              "#f0f921"
             ]
            ],
            "type": "histogram2d"
           }
          ],
          "histogram2dcontour": [
           {
            "colorbar": {
             "outlinewidth": 0,
             "ticks": ""
            },
            "colorscale": [
             [
              0,
              "#0d0887"
             ],
             [
              0.1111111111111111,
              "#46039f"
             ],
             [
              0.2222222222222222,
              "#7201a8"
             ],
             [
              0.3333333333333333,
              "#9c179e"
             ],
             [
              0.4444444444444444,
              "#bd3786"
             ],
             [
              0.5555555555555556,
              "#d8576b"
             ],
             [
              0.6666666666666666,
              "#ed7953"
             ],
             [
              0.7777777777777778,
              "#fb9f3a"
             ],
             [
              0.8888888888888888,
              "#fdca26"
             ],
             [
              1,
              "#f0f921"
             ]
            ],
            "type": "histogram2dcontour"
           }
          ],
          "mesh3d": [
           {
            "colorbar": {
             "outlinewidth": 0,
             "ticks": ""
            },
            "type": "mesh3d"
           }
          ],
          "parcoords": [
           {
            "line": {
             "colorbar": {
              "outlinewidth": 0,
              "ticks": ""
             }
            },
            "type": "parcoords"
           }
          ],
          "pie": [
           {
            "automargin": true,
            "type": "pie"
           }
          ],
          "scatter": [
           {
            "fillpattern": {
             "fillmode": "overlay",
             "size": 10,
             "solidity": 0.2
            },
            "type": "scatter"
           }
          ],
          "scatter3d": [
           {
            "line": {
             "colorbar": {
              "outlinewidth": 0,
              "ticks": ""
             }
            },
            "marker": {
             "colorbar": {
              "outlinewidth": 0,
              "ticks": ""
             }
            },
            "type": "scatter3d"
           }
          ],
          "scattercarpet": [
           {
            "marker": {
             "colorbar": {
              "outlinewidth": 0,
              "ticks": ""
             }
            },
            "type": "scattercarpet"
           }
          ],
          "scattergeo": [
           {
            "marker": {
             "colorbar": {
              "outlinewidth": 0,
              "ticks": ""
             }
            },
            "type": "scattergeo"
           }
          ],
          "scattergl": [
           {
            "marker": {
             "colorbar": {
              "outlinewidth": 0,
              "ticks": ""
             }
            },
            "type": "scattergl"
           }
          ],
          "scattermapbox": [
           {
            "marker": {
             "colorbar": {
              "outlinewidth": 0,
              "ticks": ""
             }
            },
            "type": "scattermapbox"
           }
          ],
          "scatterpolar": [
           {
            "marker": {
             "colorbar": {
              "outlinewidth": 0,
              "ticks": ""
             }
            },
            "type": "scatterpolar"
           }
          ],
          "scatterpolargl": [
           {
            "marker": {
             "colorbar": {
              "outlinewidth": 0,
              "ticks": ""
             }
            },
            "type": "scatterpolargl"
           }
          ],
          "scatterternary": [
           {
            "marker": {
             "colorbar": {
              "outlinewidth": 0,
              "ticks": ""
             }
            },
            "type": "scatterternary"
           }
          ],
          "surface": [
           {
            "colorbar": {
             "outlinewidth": 0,
             "ticks": ""
            },
            "colorscale": [
             [
              0,
              "#0d0887"
             ],
             [
              0.1111111111111111,
              "#46039f"
             ],
             [
              0.2222222222222222,
              "#7201a8"
             ],
             [
              0.3333333333333333,
              "#9c179e"
             ],
             [
              0.4444444444444444,
              "#bd3786"
             ],
             [
              0.5555555555555556,
              "#d8576b"
             ],
             [
              0.6666666666666666,
              "#ed7953"
             ],
             [
              0.7777777777777778,
              "#fb9f3a"
             ],
             [
              0.8888888888888888,
              "#fdca26"
             ],
             [
              1,
              "#f0f921"
             ]
            ],
            "type": "surface"
           }
          ],
          "table": [
           {
            "cells": {
             "fill": {
              "color": "#EBF0F8"
             },
             "line": {
              "color": "white"
             }
            },
            "header": {
             "fill": {
              "color": "#C8D4E3"
             },
             "line": {
              "color": "white"
             }
            },
            "type": "table"
           }
          ]
         },
         "layout": {
          "annotationdefaults": {
           "arrowcolor": "#2a3f5f",
           "arrowhead": 0,
           "arrowwidth": 1
          },
          "autotypenumbers": "strict",
          "coloraxis": {
           "colorbar": {
            "outlinewidth": 0,
            "ticks": ""
           }
          },
          "colorscale": {
           "diverging": [
            [
             0,
             "#8e0152"
            ],
            [
             0.1,
             "#c51b7d"
            ],
            [
             0.2,
             "#de77ae"
            ],
            [
             0.3,
             "#f1b6da"
            ],
            [
             0.4,
             "#fde0ef"
            ],
            [
             0.5,
             "#f7f7f7"
            ],
            [
             0.6,
             "#e6f5d0"
            ],
            [
             0.7,
             "#b8e186"
            ],
            [
             0.8,
             "#7fbc41"
            ],
            [
             0.9,
             "#4d9221"
            ],
            [
             1,
             "#276419"
            ]
           ],
           "sequential": [
            [
             0,
             "#0d0887"
            ],
            [
             0.1111111111111111,
             "#46039f"
            ],
            [
             0.2222222222222222,
             "#7201a8"
            ],
            [
             0.3333333333333333,
             "#9c179e"
            ],
            [
             0.4444444444444444,
             "#bd3786"
            ],
            [
             0.5555555555555556,
             "#d8576b"
            ],
            [
             0.6666666666666666,
             "#ed7953"
            ],
            [
             0.7777777777777778,
             "#fb9f3a"
            ],
            [
             0.8888888888888888,
             "#fdca26"
            ],
            [
             1,
             "#f0f921"
            ]
           ],
           "sequentialminus": [
            [
             0,
             "#0d0887"
            ],
            [
             0.1111111111111111,
             "#46039f"
            ],
            [
             0.2222222222222222,
             "#7201a8"
            ],
            [
             0.3333333333333333,
             "#9c179e"
            ],
            [
             0.4444444444444444,
             "#bd3786"
            ],
            [
             0.5555555555555556,
             "#d8576b"
            ],
            [
             0.6666666666666666,
             "#ed7953"
            ],
            [
             0.7777777777777778,
             "#fb9f3a"
            ],
            [
             0.8888888888888888,
             "#fdca26"
            ],
            [
             1,
             "#f0f921"
            ]
           ]
          },
          "colorway": [
           "#636efa",
           "#EF553B",
           "#00cc96",
           "#ab63fa",
           "#FFA15A",
           "#19d3f3",
           "#FF6692",
           "#B6E880",
           "#FF97FF",
           "#FECB52"
          ],
          "font": {
           "color": "#2a3f5f"
          },
          "geo": {
           "bgcolor": "white",
           "lakecolor": "white",
           "landcolor": "#E5ECF6",
           "showlakes": true,
           "showland": true,
           "subunitcolor": "white"
          },
          "hoverlabel": {
           "align": "left"
          },
          "hovermode": "closest",
          "mapbox": {
           "style": "light"
          },
          "paper_bgcolor": "white",
          "plot_bgcolor": "#E5ECF6",
          "polar": {
           "angularaxis": {
            "gridcolor": "white",
            "linecolor": "white",
            "ticks": ""
           },
           "bgcolor": "#E5ECF6",
           "radialaxis": {
            "gridcolor": "white",
            "linecolor": "white",
            "ticks": ""
           }
          },
          "scene": {
           "xaxis": {
            "backgroundcolor": "#E5ECF6",
            "gridcolor": "white",
            "gridwidth": 2,
            "linecolor": "white",
            "showbackground": true,
            "ticks": "",
            "zerolinecolor": "white"
           },
           "yaxis": {
            "backgroundcolor": "#E5ECF6",
            "gridcolor": "white",
            "gridwidth": 2,
            "linecolor": "white",
            "showbackground": true,
            "ticks": "",
            "zerolinecolor": "white"
           },
           "zaxis": {
            "backgroundcolor": "#E5ECF6",
            "gridcolor": "white",
            "gridwidth": 2,
            "linecolor": "white",
            "showbackground": true,
            "ticks": "",
            "zerolinecolor": "white"
           }
          },
          "shapedefaults": {
           "line": {
            "color": "#2a3f5f"
           }
          },
          "ternary": {
           "aaxis": {
            "gridcolor": "white",
            "linecolor": "white",
            "ticks": ""
           },
           "baxis": {
            "gridcolor": "white",
            "linecolor": "white",
            "ticks": ""
           },
           "bgcolor": "#E5ECF6",
           "caxis": {
            "gridcolor": "white",
            "linecolor": "white",
            "ticks": ""
           }
          },
          "title": {
           "x": 0.05
          },
          "xaxis": {
           "automargin": true,
           "gridcolor": "white",
           "linecolor": "white",
           "ticks": "",
           "title": {
            "standoff": 15
           },
           "zerolinecolor": "white",
           "zerolinewidth": 2
          },
          "yaxis": {
           "automargin": true,
           "gridcolor": "white",
           "linecolor": "white",
           "ticks": "",
           "title": {
            "standoff": 15
           },
           "zerolinecolor": "white",
           "zerolinewidth": 2
          }
         }
        },
        "title": {
         "text": "Representación 2D de los datos codificados por país"
        },
        "width": 800,
        "xaxis": {
         "anchor": "y",
         "domain": [
          0,
          1
         ],
         "title": {
          "text": "Dimension 1"
         }
        },
        "yaxis": {
         "anchor": "x",
         "domain": [
          0,
          1
         ],
         "title": {
          "text": "Dimension 2"
         }
        }
       }
      }
     },
     "metadata": {},
     "output_type": "display_data"
    }
   ],
   "source": [
    "# Setear una semilla para evitar mucha variacion entre los datos \n",
    "np.random.seed(0)\n",
    "tf.random.set_seed(0)\n",
    "\n",
    "# Asegurando que los datos codificados tienen la forma correcta\n",
    "assert encoded_data.shape == (4, 2), \"La forma de los datos codificados no es correcta.\"\n",
    "\n",
    "# Creando un dataframe para las dimensiones codificadas\n",
    "df_encoded = pd.DataFrame(encoded_data, columns=['Dimension 1', 'Dimension 2'])\n",
    "df_encoded['Country'] = df_normalized.index  # Usar las filas del DataFrame normalizado como 'Country'\n",
    "\n",
    "# Dibujo del gráfico\n",
    "fig = px.scatter(df_encoded, \n",
    "                 x=\"Dimension 1\", \n",
    "                 y=\"Dimension 2\", \n",
    "                 color=\"Country\",\n",
    "                 title=\"Representación 2D de los datos codificados por país\",\n",
    "                 width=800,\n",
    "                 height=600)\n",
    "\n",
    "fig.show()\n"
   ]
  }
 ],
 "metadata": {
  "kernelspec": {
   "display_name": "Python 3",
   "language": "python",
   "name": "python3"
  },
  "language_info": {
   "codemirror_mode": {
    "name": "ipython",
    "version": 3
   },
   "file_extension": ".py",
   "mimetype": "text/x-python",
   "name": "python",
   "nbconvert_exporter": "python",
   "pygments_lexer": "ipython3",
   "version": "3.10.4"
  },
  "orig_nbformat": 4
 },
 "nbformat": 4,
 "nbformat_minor": 2
}
